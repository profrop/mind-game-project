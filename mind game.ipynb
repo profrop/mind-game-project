{
  "nbformat": 4,
  "nbformat_minor": 0,
  "metadata": {
    "colab": {
      "provenance": []
    },
    "kernelspec": {
      "name": "python3",
      "display_name": "Python 3"
    },
    "language_info": {
      "name": "python"
    }
  },
  "cells": [
    {
      "cell_type": "code",
      "source": [
        "#Challenge 1: Counting Vowels in a Sentence\n",
        "\n",
        "from collections import Counter\n",
        "#Write a function that counts how many vowels (a, e, i, o, u, caseinsensitive) appear in a given sentence.\n",
        "#Coder: Implement count_vowels(sentence) using a for loop.\n",
        "# Prepare ≥5 test cases (empty string, no vowels, all vowels, mixed case).\n",
        "sentance = input(\"enter full sentance\")\n",
        "count_vowels = 0\n",
        "for char in sentance:\n",
        "    if char in \"aeiou\":\n",
        "        count_vowels += 1\n",
        "print(f\"Number of vowels: {count_vowels}\")\n",
        "print(f\"Number of consonants: {len(sentance) - count_vowels}\")\n",
        "print(sentance.upper())\n",
        "print(sentance.lower())\n",
        "print(Counter(sentance))"
      ],
      "metadata": {
        "colab": {
          "base_uri": "https://localhost:8080/"
        },
        "id": "bhV1z8ERG0du",
        "outputId": "a6d97a7b-96ac-4242-a7c3-a3d819769ed5"
      },
      "execution_count": null,
      "outputs": [
        {
          "output_type": "stream",
          "name": "stdout",
          "text": [
            "enter full sentancecoding is fun\n",
            "Number of vowels: 4\n",
            "Number of consonants: 9\n",
            "CODING IS FUN\n",
            "coding is fun\n",
            "Counter({'i': 2, 'n': 2, ' ': 2, 'c': 1, 'o': 1, 'd': 1, 'g': 1, 's': 1, 'f': 1, 'u': 1})\n"
          ]
        }
      ]
    },
    {
      "cell_type": "code",
      "source": [
        "# #Challenge 2: Detecting Prime Numbers in a Range\n",
        "# Given two integers start and end, print all primes between them (inclusive).\n",
        "# Roles\n",
        "# Coder: Implement is_prime(n) and loop with for n in range(start, end+1).\n",
        "# Tester: Verify edge cases (start > end, ranges with no primes, small ranges).\n",
        "# Presenter: Explain the nested loops and early exit via break.\n",
        "\n",
        "\n",
        "# The user is prompted to input two integers: the start and end of the range.\n",
        "#These define the inclusive range of numbers to check for primes\n",
        "#int(input(...)) converts the string input to an integer.\n",
        "start = int(input(\"Enter the start of the range: \"))\n",
        "end = int(input(\"Enter the end of the range: \"))\n",
        "\n",
        "#1) Loop through each number in the range\n",
        "#This loop goes through each number from start to end (inclusive, because of end + 1).\n",
        "for num in range(start, end + 1):\n",
        "\n",
        "  #A)Check if the Number is Prime\n",
        "  #Primes are greater than 1. This condition skips 0 and 1\n",
        "    if num > 1:  # Only numbers greater than 1 are prime\n",
        "\n",
        "     #Prime Check Logic\n",
        "     #1)is_prime = True assumes the number is prime until proven otherwise\n",
        "        is_prime = True\n",
        "\n",
        "     #2)range(2, int(num**0.5) + 1) checks all divisors up to the square root of num\n",
        "        #)Why square root? If num has a factor larger than its square root, the corresponding smaller factor would already have been found\n",
        "        for i in range(2, int(num**0.5) + 1):\n",
        "\n",
        "     #3)if num % i == 0: checks if num is divisible by i.\n",
        "            if num % i == 0:\n",
        "              #If it is, it's not prime\n",
        "                is_prime = False\n",
        "\n",
        "     #4)We set is_prime = False and break out of the loop early to save time.\n",
        "                break  # Exit early if not prime\n",
        "        if is_prime:\n",
        "            print(num, end=\" \")"
      ],
      "metadata": {
        "id": "2_UOG_zR7RCU",
        "colab": {
          "base_uri": "https://localhost:8080/"
        },
        "outputId": "d1850d2c-2b57-460e-c074-8f13b466a908"
      },
      "execution_count": null,
      "outputs": [
        {
          "output_type": "stream",
          "name": "stdout",
          "text": [
            "Enter the start of the range: 4\n",
            "Enter the end of the range: 9\n",
            "5 7 "
          ]
        }
      ]
    },
    {
      "cell_type": "code",
      "source": [
        "#Challenge 3: GuessandCheck with Limited\n",
        "\n",
        "#Hardcode a secret number between 1–50. Prompt the user up to 5 times to guess it. After each guess, print “Too low”, “Too high”,\n",
        " # or congratulate and exit. If all attempts fail, reveal the secret.\n",
        "\n",
        " #secret_number is the hidden answer.\n",
        " #attempts keeps track of how many guesses the user has made.\n",
        "  #max_attempts is the maximum allowed guesses (5).\n",
        "secret_number = 27  # Hardcoded secret number between 1–50\n",
        "attempts = 0\n",
        "max_attempts = 5\n",
        "\n",
        "# This loop runs as long as the number of attempts is less than 5.\n",
        "# The user inputs a guess.\n",
        "# After guessing, attempts increases by 1.\n",
        "while attempts < max_attempts:\n",
        "    guess = int(input(f\"Attempt {attempts + 1}/5 - Enter your guess (1–50): \"))\n",
        "    attempts += 1\n",
        "\n",
        "# If the guess is less than the secret, it prints “Too low.”\n",
        "# If it's greater, it prints “Too high.”\n",
        "# If the guess is equal, the user wins, and break exits the loop early\n",
        "    if guess < secret_number:\n",
        "        print(\"Too low.\")\n",
        "    elif guess > secret_number:\n",
        "        print(\"Too high.\")\n",
        "    else:\n",
        "        print(\"Congratulations! You guessed it!\")\n",
        "        break\n",
        "\n",
        "#  This else belongs to the while loop.\n",
        "# It runs only if the loop completes without a break — meaning the user failed all 5 attempts.\n",
        "else:\n",
        "    # Executed only if loop wasn't broken (all attempts used)\n",
        "    print(f\"Sorry, you didn't guess it. The secret number was {secret_number}.\")"
      ],
      "metadata": {
        "id": "mQAZgOiU7YpJ",
        "colab": {
          "base_uri": "https://localhost:8080/"
        },
        "outputId": "586a3148-5340-43af-f40f-e3811e881b95"
      },
      "execution_count": null,
      "outputs": [
        {
          "output_type": "stream",
          "name": "stdout",
          "text": [
            "Attempt 1/5 - Enter your guess (1–50): 27\n",
            "Congratulations! You guessed it!\n"
          ]
        }
      ]
    },
    {
      "cell_type": "code",
      "source": [
        "#Challenge 4: Nested Loops for Pattern Printing\n",
        "\n",
        "n = 3\n",
        "m = 6\n",
        "print(\"Multiplication Table:\")\n",
        "for i in range(1, n + 1):\n",
        "    for j in range(1, m + 1):\n",
        "          result = i * j\n",
        "          print(f\"{i} X {j} = {result}\", end=\"\\t\")\n",
        "print()  # Newline after each row\n"
      ],
      "metadata": {
        "id": "_FZtMBsW-Qlz",
        "colab": {
          "base_uri": "https://localhost:8080/"
        },
        "outputId": "195dd6ba-7d7b-4f1b-89e3-421dddfcf964"
      },
      "execution_count": 4,
      "outputs": [
        {
          "output_type": "stream",
          "name": "stdout",
          "text": [
            "Multiplication Table:\n",
            "1 X 1 = 1\t1 X 2 = 2\t1 X 3 = 3\t1 X 4 = 4\t1 X 5 = 5\t1 X 6 = 6\t2 X 1 = 2\t2 X 2 = 4\t2 X 3 = 6\t2 X 4 = 8\t2 X 5 = 10\t2 X 6 = 12\t3 X 1 = 3\t3 X 2 = 6\t3 X 3 = 9\t3 X 4 = 12\t3 X 5 = 15\t3 X 6 = 18\t\n"
          ]
        }
      ]
    },
    {
      "cell_type": "code",
      "source": [],
      "metadata": {
        "id": "217VID4TAlBR"
      },
      "execution_count": null,
      "outputs": []
    }
  ]
}